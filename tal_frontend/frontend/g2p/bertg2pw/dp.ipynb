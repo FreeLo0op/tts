{
 "cells": [
  {
   "cell_type": "code",
   "execution_count": 1,
   "metadata": {},
   "outputs": [],
   "source": [
    "import re\n",
    "sy_poly = set()\n",
    "sy_en_poly = set()\n",
    "ploy_file = '/mnt/cfs/SPEECH/hupeng/git_loc_workspace/tal_frontend_service/tal_frontend/frontend/g2p_pp/POLYPHONIC_CHARS_704.txt'\n",
    "with open(ploy_file,'r') as fin :\n",
    "    for line in fin:\n",
    "        word = line.strip().split('\\t')[0]\n",
    "        if re.match(r'[\\u4e00-\\u9fff]', word):\n",
    "            word = ord(word)\n",
    "            sy_poly.add(word)\n",
    "        else:\n",
    "            sy_en_poly.add(word)"
   ]
  },
  {
   "cell_type": "code",
   "execution_count": 2,
   "metadata": {},
   "outputs": [],
   "source": [
    "import json\n",
    "xz = {}\n",
    "with open(r'/mnt/cfs/SPEECH/hupeng/git_loc_workspace/tal_frontend_service/tal_frontend/frontend/g2p/phonemes/others_map.json', 'r', encoding='utf8') as fin:\n",
    "    fin = fin.read()\n",
    "    fin = json.loads(fin)\n",
    "    for word, ph in fin.items():\n",
    "        if re.match(r'[\\u4e00-\\u9fff]', word):\n",
    "            word = ord(word)\n",
    "            xz[word] = ph\n",
    "        elif re.search(r'[a-z]',word):\n",
    "            word = word.lower()\n",
    "            word = re.sub(r'[^a-z]','',word)\n",
    "            xz[word] = ph\n",
    "        else:\n",
    "            word = ord(word)\n",
    "            xz[word] = ph"
   ]
  },
  {
   "cell_type": "code",
   "execution_count": 23,
   "metadata": {},
   "outputs": [
    {
     "name": "stdout",
     "output_type": "stream",
     "text": [
      "['脦']\n"
     ]
    }
   ],
   "source": [
    "mono_file = r'/mnt/cfs/SPEECH/hupeng/git_loc_workspace/tal_frontend_service/tal_frontend/frontend/g2p/phonemes/cn/cn_monophone_ori.txt'\n",
    "lh_poly_file = r'/mnt/cfs/SPEECH/hupeng/git_loc_workspace/tal_frontend_service/tal_frontend/frontend/g2p/phonemes/cn/cn_ployphone.txt'\n",
    "\n",
    "mono_dict = {}\n",
    "\n",
    "with open(mono_file, 'r', encoding='utf8') as fin:\n",
    "    for line in fin:\n",
    "        code, _, py = line.strip().split('\\t', maxsplit=2)\n",
    "        mono_dict[code] = py\n",
    "\n",
    "with open(lh_poly_file, 'r', encoding='utf8') as fin:\n",
    "    for line in fin:\n",
    "        line = line.strip().split(',')\n",
    "        line = [i for i in line if '5' not in i]\n",
    "        word = line[0]\n",
    "        code = ord(word)\n",
    "        \n",
    "        try:\n",
    "            py = line[1]\n",
    "        except:\n",
    "            print(line)\n",
    "        if not mono_dict.get(code):\n",
    "            mono_dict[code] = py\n",
    "mono_dict[33062] = 'te5'\n",
    "for key, _ in mono_dict.items():\n",
    "    if xz.get(key):\n",
    "        mono_dict[key] = xz[key]"
   ]
  },
  {
   "cell_type": "code",
   "execution_count": 3,
   "metadata": {},
   "outputs": [],
   "source": [
    "import re\n",
    "mono_en_file = r'/mnt/cfs/SPEECH/hupeng/git_loc_workspace/tal_frontend_service/tal_frontend/frontend/g2p/phonemes/en/en_monophone_tal.txt'\n",
    "mono_en_file = r'/mnt/cfs/SPEECH/hupeng/git_loc_workspace/tal_frontend_service/tal_frontend/frontend/g2p/phonemes/en/cmudict'\n",
    "mono_en_dict = {}\n",
    "with open(mono_en_file, 'r', encoding='utf8') as fin:\n",
    "    for line in fin:\n",
    "        #word, pron = line.strip().split('\\t', maxsplit=1)\n",
    "        word, _, pron = line.strip().split(' ', maxsplit=2)\n",
    "        word = word.lower()\n",
    "        word = re.sub(r'[^a-z]', '', word)\n",
    "        # if word not in sy_en_poly and not mono_en_dict.get(word):\n",
    "        if not mono_en_dict.get(word):\n",
    "            mono_en_dict[word] = pron\n",
    "            if xz.get(word):\n",
    "                mono_en_dict[word] = xz.get(word)\n",
    "\n",
    "save_file = r'/mnt/cfs/SPEECH/hupeng/git_loc_workspace/tal_frontend_service/tal_frontend/frontend/g2p/bertg2pw/english_dict.list'\n",
    "with open(save_file, 'w', encoding='utf8') as fo:\n",
    "    #fin.write('en_monophone = {\\n')\n",
    "    for key, value in mono_en_dict.items():\n",
    "        fo.write(f'{key}\\t{value}\\n')\n",
    "        #fin.write(f'\\'{key}\\':\\'{value}\\',\\n')\n",
    "    #fin.write('}')\n",
    "fo.close()"
   ]
  },
  {
   "cell_type": "code",
   "execution_count": 27,
   "metadata": {},
   "outputs": [],
   "source": [
    "remove_code = set()\n",
    "for key, value in mono_dict.items():\n",
    "    if key in sy_poly:\n",
    "        remove_code.add(key)\n",
    "for key in remove_code:\n",
    "    mono_dict.pop(key)"
   ]
  },
  {
   "cell_type": "code",
   "execution_count": 28,
   "metadata": {},
   "outputs": [],
   "source": [
    "save_file = r'/mnt/cfs/SPEECH/hupeng/git_loc_workspace/tal_frontend_service/tal_frontend/frontend/g2p/bertg2pw/pinyin_dict.py'\n",
    "with open(save_file, 'w', encoding='utf8') as fo:\n",
    "    fo.write('cn_monophone = {\\n')\n",
    "    for key, value in mono_dict.items():\n",
    "        fo.write(f'{key}:\\'{value}\\',\\n')\n",
    "    fo.write('}')\n",
    "fo.close()"
   ]
  },
  {
   "cell_type": "code",
   "execution_count": null,
   "metadata": {},
   "outputs": [],
   "source": []
  }
 ],
 "metadata": {
  "kernelspec": {
   "display_name": "Python 3",
   "language": "python",
   "name": "python3"
  },
  "language_info": {
   "codemirror_mode": {
    "name": "ipython",
    "version": 3
   },
   "file_extension": ".py",
   "mimetype": "text/x-python",
   "name": "python",
   "nbconvert_exporter": "python",
   "pygments_lexer": "ipython3",
   "version": "3.10.14"
  }
 },
 "nbformat": 4,
 "nbformat_minor": 2
}
